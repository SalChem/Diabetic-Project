{
 "cells": [
  {
   "cell_type": "markdown",
   "metadata": {},
   "source": [
    "# Patient 1 Stats"
   ]
  },
  {
   "cell_type": "markdown",
   "metadata": {},
   "source": [
    "This patient has a total of 91 meals of the following sizes:\n",
    "\n",
    "There are 5 meals with CHO less than 5.0 grams.\n",
    "\n",
    "There are 14 meals with CHO between 5.0 and 10.0 grams.\n",
    "\n",
    "There are 17 meals with CHO between 10.0 and 15.0 grams.\n",
    "\n",
    "There are 12 meals with CHO between 15.0 and 20.0 grams.\n",
    "\n",
    "There are 11 meals with CHO between 20.0 and 25.0 grams.\n",
    "\n",
    "There are 23 meals with CHO between 25.0 and 30.0 grams.\n",
    "\n",
    "There are 2 meals with CHO between 30.0 and 35.0 grams.\n",
    "\n",
    "There are 3 meals with CHO between 35.0 and 40.0 grams.\n",
    "\n",
    "There are 1 meals with CHO between 40.0 and 45.0 grams.\n",
    "\n",
    "There are 1 meals with CHO between 45.0 and 50.0 grams.\n",
    "\n",
    "There are 1 meals with CHO between 50.0 and 55.0 grams.\n",
    "\n",
    "There are 1 meals with CHO between 55.0 and 60.0 grams.\n",
    "\n",
    "\n",
    "The are 2 occurrences of meals of size less than 1gram of CHO\n",
    "\n",
    "The mean of the total # of meals is: 19.7991758242\n",
    "\n",
    "The std of the total # of meals is: 10.8535967352\n",
    "\n",
    "The min meal size is: 0.5 while the max meal size is: 56.0"
   ]
  },
  {
   "cell_type": "markdown",
   "metadata": {},
   "source": [
    "# Patient 2 Stats\n"
   ]
  },
  {
   "cell_type": "code",
   "execution_count": null,
   "metadata": {
    "collapsed": true
   },
   "outputs": [],
   "source": []
  }
 ],
 "metadata": {
  "kernelspec": {
   "display_name": "Python 2",
   "language": "python",
   "name": "python2"
  },
  "language_info": {
   "codemirror_mode": {
    "name": "ipython",
    "version": 2
   },
   "file_extension": ".py",
   "mimetype": "text/x-python",
   "name": "python",
   "nbconvert_exporter": "python",
   "pygments_lexer": "ipython2",
   "version": "2.7.11"
  }
 },
 "nbformat": 4,
 "nbformat_minor": 0
}
